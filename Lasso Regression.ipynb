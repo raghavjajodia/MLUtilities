{
 "cells": [
  {
   "cell_type": "code",
   "execution_count": 2,
   "metadata": {},
   "outputs": [],
   "source": [
    "from sklearn.base import BaseEstimator, RegressorMixin\n",
    "from scipy.optimize import minimize\n",
    "import numpy as np\n",
    "import matplotlib.pyplot as plt\n",
    "from sklearn.model_selection import GridSearchCV, PredefinedSplit\n",
    "from sklearn.model_selection import ParameterGrid\n",
    "from sklearn.metrics import mean_squared_error, make_scorer\n",
    "import pandas as pd\n",
    "\n",
    "from setup_problem import load_problem"
   ]
  },
  {
   "cell_type": "code",
   "execution_count": 3,
   "metadata": {},
   "outputs": [],
   "source": [
    "lasso_data_fname = \"data/lasso_data.pickle\"\n",
    "x_train, y_train, x_val, y_val, target_fn, coefs_true, featurize = load_problem(lasso_data_fname)"
   ]
  },
  {
   "cell_type": "code",
   "execution_count": 4,
   "metadata": {},
   "outputs": [],
   "source": [
    "# Generate features\n",
    "X_train = featurize(x_train)\n",
    "X_val = featurize(x_val)"
   ]
  },
  {
   "cell_type": "code",
   "execution_count": 5,
   "metadata": {},
   "outputs": [],
   "source": [
    "class LassoRegression(BaseEstimator, RegressorMixin):\n",
    "    \"\"\" lasso regression\"\"\"\n",
    "    \n",
    "    def __init__(self, l1reg=1, max_steps = 1000, weight_init = 'murphy', order = 'cyclic'):\n",
    "        '''\n",
    "        @weight_init =  'murphy or random'. For murphy, weights = inv(X.t X)X.t y\n",
    "        @order = 'Order of coordinate iteration in Coordinate descent method'\n",
    "        '''\n",
    "        if l1reg < 0:\n",
    "            raise ValueError('Regularization penalty should be at least 0.')\n",
    "        self.l1reg = l1reg\n",
    "        self.weight_init_ = weight_init\n",
    "        self.order_ = order\n",
    "        self.max_steps_ = max_steps\n",
    "                \n",
    "    def soft(self, a, lamb):\n",
    "        return np.sign(a) * (np.abs(a) - lamb) * (1 * (np.abs(a) > lamb))\n",
    "        \n",
    "    '''\n",
    "    We are using Coordinate descent method to minimize Lasso Regression objective\n",
    "    Returns the learned weights, and final objective loss\n",
    "    '''\n",
    "    def coordinate_descent(self, init_weights,X_tr, y_tr):\n",
    "        steps = 0\n",
    "        del_loss = 1000000000\n",
    "        prev_loss = 1000000000\n",
    "        num_dim = len(init_weights)\n",
    "        curr_weight = init_weights\n",
    "        #While not converged\n",
    "        while not(steps >= self.max_steps_ or del_loss <= 10**-8):\n",
    "            \n",
    "            order_vec = np.arange(0,num_dim)\n",
    "            \n",
    "            if self.order_!='cyclic':\n",
    "                np.random.shuffle(order_vec)\n",
    "            \n",
    "            for j in range(num_dim):\n",
    "                currdim = order_vec[j]\n",
    "                X_j = X_tr[:,currdim]\n",
    "                a_j = 2*(np.dot(X_j, X_j))\n",
    "                c_j = 2*(np.dot(X_j, y_tr - (X_tr @ curr_weight) + curr_weight[currdim]* X_j))\n",
    "                \n",
    "                if a_j == 0:\n",
    "                    curr_weight[currdim] = 0\n",
    "                else:\n",
    "                    curr_weight[currdim] = self.soft(c_j/a_j, self.l1reg/a_j)\n",
    "            steps = steps + 1\n",
    "            curr_loss = self.lasso_obj_(curr_weight)\n",
    "            del_loss = prev_loss - curr_loss\n",
    "            prev_loss = curr_loss\n",
    "        return curr_weight, curr_loss            \n",
    "        \n",
    "    \n",
    "    def fit(self, X, y=None):\n",
    "        n, num_ftrs = X.shape\n",
    "        # convert y to 1-dim array, in case we're given a column vector\n",
    "        y = y.reshape(-1)\n",
    "        \n",
    "        #Function to compute lasso objective\n",
    "        def lasso_obj(w):\n",
    "            predictions = np.dot(X,w)\n",
    "            residual = y - predictions\n",
    "            empirical_risk = np.sum(residual**2)\n",
    "            l1_norm = np.sum(np.abs(w))\n",
    "            objective = empirical_risk + self.l1reg * l1_norm\n",
    "            return objective\n",
    "        \n",
    "        self.lasso_obj_ = lasso_obj\n",
    "        \n",
    "        #initialize weights\n",
    "        if self.weight_init_ == 'murphy':\n",
    "            w_0 = np.linalg.inv(X.T @ X +  self.l1reg * np.eye(num_ftrs)) @ X.T @ y\n",
    "        else:\n",
    "            w_0 = np.zeros(num_ftrs)\n",
    "        \n",
    "        #Optimize by doing Coordinate descent\n",
    "        self.w_ , self.minLoss_ = self.coordinate_descent(w_0, X, y)\n",
    "        return self\n",
    "\n",
    "    def predict(self, X, y=None):\n",
    "        try:\n",
    "            getattr(self, \"w_\")\n",
    "        except AttributeError:\n",
    "            raise RuntimeError(\"You must train classifer before predicting data!\")\n",
    "        return np.dot(X, self.w_)\n",
    "\n",
    "    def score(self, X, y):\n",
    "        # Average square error\n",
    "        try:\n",
    "            getattr(self, \"w_\")\n",
    "        except AttributeError:\n",
    "            raise RuntimeError(\"You must train classifer before predicting data!\")\n",
    "        residuals = self.predict(X) - y\n",
    "        return np.dot(residuals, residuals)/len(y)"
   ]
  },
  {
   "cell_type": "markdown",
   "metadata": {},
   "source": [
    "Do grid search over different L1 Regularization Parameters. Find best L1 Param and plot Validation loss vs L1 par"
   ]
  },
  {
   "cell_type": "code",
   "execution_count": 37,
   "metadata": {},
   "outputs": [
    {
     "name": "stdout",
     "output_type": "stream",
     "text": [
      "L1 Regularization :  1e-06 Validation loss:  0.17258981872063736 Training loss:  0.0067518509098154714\n",
      "L1 Regularization :  1e-05 Validation loss:  0.17258867019556473 Training loss:  0.0067518509319723094\n",
      "L1 Regularization :  0.0001 Validation loss:  0.1725778770718041 Training loss:  0.006751853116597196\n",
      "L1 Regularization :  0.001 Validation loss:  0.17247069027841191 Training loss:  0.006752368909961313\n",
      "L1 Regularization :  0.01 Validation loss:  0.17140950975529842 Training loss:  0.006805521951594953\n",
      "L1 Regularization :  0.1 Validation loss:  0.16210502488427614 Training loss:  0.011142879785962132\n",
      "L1 Regularization :  1 Validation loss:  0.12643956987110064 Training loss:  0.09195036310699073\n",
      "L1 Regularization :  10 Validation loss:  0.19510534571429244 Training loss:  0.2262090961924562\n",
      "L1 Regularization :  100 Validation loss:  0.8450932951785499 Training loss:  0.8837710712086175\n",
      "L1 Regularization :  1000 Validation loss:  3.576552934309349 Training loss:  3.596674002813196\n"
     ]
    },
    {
     "name": "stderr",
     "output_type": "stream",
     "text": [
      "/home/raghavjajodia/anaconda3/lib/python3.7/site-packages/matplotlib/figure.py:457: UserWarning: matplotlib is currently using a non-GUI backend, so cannot show the figure\n",
      "  \"matplotlib is currently using a non-GUI backend, \"\n"
     ]
    },
    {
     "data": {
      "image/png": "[encoded data removed]",
      "text/plain": [
       "<Figure size 576x576 with 1 Axes>"
      ]
     },
     "metadata": {
      "needs_background": "light"
     },
     "output_type": "display_data"
    }
   ],
   "source": [
    "l1regparams = [0.000001,0.00001,0.0001,0.001,0.01,0.1,1,10,100,1000]\n",
    "\n",
    "valLosses = []\n",
    "\n",
    "for l1param in l1regparams:        \n",
    "    lasso_regression_estimator = LassoRegression(l1reg= l1param)\n",
    "    lasso_regression_estimator.fit(X_train, y_train)\n",
    "    trainLoss = lasso_regression_estimator.score(X_train, y_train)\n",
    "    valLoss = lasso_regression_estimator.score(X_val, y_val)\n",
    "    valLosses.append(valLoss)\n",
    "    print(\"L1 Regularization : \",l1param,\"Validation loss: \", valLoss, \"Training loss: \", trainLoss)\n",
    "\n",
    "# Plot validation performance vs regularization parameter\n",
    "fig, ax = plt.subplots(figsize=(8,8))\n",
    "ax.semilogx(l1regparams, valLosses)\n",
    "ax.grid()\n",
    "ax.set_title(\"Validation Performance vs L1 Regularization\")\n",
    "ax.set_xlabel(\"L1-Penalty Regularization Parameter\")\n",
    "ax.set_ylabel(\"Mean Squared Error\")\n",
    "fig.show()\n",
    "fig.savefig('ValidationPerfVsL1Regularization.png')"
   ]
  }
 ],
 "metadata": {
  "kernelspec": {
   "display_name": "Python 3",
   "language": "python",
   "name": "python3"
  },
  "language_info": {
   "codemirror_mode": {
    "name": "ipython",
    "version": 3
   },
   "file_extension": ".py",
   "mimetype": "text/x-python",
   "name": "python",
   "nbconvert_exporter": "python",
   "pygments_lexer": "ipython3",
   "version": "3.7.2"
  }
 },
 "nbformat": 4,
 "nbformat_minor": 2
}
